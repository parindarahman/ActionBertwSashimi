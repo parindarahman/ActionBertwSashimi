{
  "cells": [
    {
      "cell_type": "markdown",
      "metadata": {
        "id": "view-in-github",
        "colab_type": "text"
      },
      "source": [
        "<a href=\"https://colab.research.google.com/github/MahiAh19/ActionBERTwSashimi/blob/main/ActionBERTwSashimi.ipynb\" target=\"_parent\"><img src=\"https://colab.research.google.com/assets/colab-badge.svg\" alt=\"Open In Colab\"/></a>"
      ]
    },
    {
      "cell_type": "code",
      "execution_count": null,
      "metadata": {
        "id": "spofkXpkNGcA"
      },
      "outputs": [],
      "source": [
        "!wget -O mini.sh https://repo.anaconda.com/miniconda/Miniconda3-py39_4.9.2-Linux-x86_64.sh\n",
        "!chmod +x mini.sh\n",
        "!bash ./mini.sh -b -f -p /usr/local\n",
        "!conda install -q -y jupyter\n",
        "!conda install -q -y google-colab -c conda-forge\n",
        "!python -m ipykernel install --name \"py39\" --user"
      ]
    },
    {
      "cell_type": "code",
      "execution_count": 2,
      "metadata": {
        "colab": {
          "base_uri": "https://localhost:8080/",
          "height": 1000
        },
        "id": "gEyXsC2fNMJy",
        "outputId": "56ac6df5-e8ae-4fd8-ef9c-7d670fee6a23"
      },
      "outputs": [
        {
          "output_type": "stream",
          "name": "stdout",
          "text": [
            "Looking in indexes: https://pypi.org/simple, https://us-python.pkg.dev/colab-wheels/public/simple/\n",
            "Collecting opencv-python\n",
            "  Downloading opencv_python-4.6.0.66-cp36-abi3-manylinux_2_17_x86_64.manylinux2014_x86_64.whl (60.9 MB)\n",
            "\u001b[K     |████████████████████████████████| 60.9 MB 1.2 MB/s \n",
            "\u001b[?25hRequirement already satisfied: numpy>=1.17.3 in /usr/local/lib/python3.9/site-packages (from opencv-python) (1.22.3)\n",
            "Requirement already satisfied: numpy>=1.19.3 in /usr/local/lib/python3.9/site-packages (from opencv-python) (1.22.3)\n",
            "Requirement already satisfied: numpy>=1.14.5 in /usr/local/lib/python3.9/site-packages (from opencv-python) (1.22.3)\n",
            "Installing collected packages: opencv-python\n",
            "Successfully installed opencv-python-4.6.0.66\n",
            "Looking in indexes: https://pypi.org/simple, https://us-python.pkg.dev/colab-wheels/public/simple/\n",
            "Collecting transformers\n",
            "  Downloading transformers-4.24.0-py3-none-any.whl (5.5 MB)\n",
            "\u001b[K     |████████████████████████████████| 5.5 MB 13.9 MB/s \n",
            "\u001b[?25hRequirement already satisfied: requests in /usr/local/lib/python3.9/site-packages (from transformers) (2.25.0)\n",
            "Requirement already satisfied: numpy>=1.17 in /usr/local/lib/python3.9/site-packages (from transformers) (1.22.3)\n",
            "Requirement already satisfied: tqdm>=4.27 in /usr/local/lib/python3.9/site-packages (from transformers) (4.54.1)\n",
            "Requirement already satisfied: packaging>=20.0 in /usr/local/lib/python3.9/site-packages (from transformers) (21.3)\n",
            "Collecting filelock\n",
            "  Downloading filelock-3.8.0-py3-none-any.whl (10 kB)\n",
            "Collecting huggingface-hub<1.0,>=0.10.0\n",
            "  Downloading huggingface_hub-0.10.1-py3-none-any.whl (163 kB)\n",
            "\u001b[K     |████████████████████████████████| 163 kB 96.3 MB/s \n",
            "\u001b[?25hRequirement already satisfied: tqdm>=4.27 in /usr/local/lib/python3.9/site-packages (from transformers) (4.54.1)\n",
            "Requirement already satisfied: packaging>=20.0 in /usr/local/lib/python3.9/site-packages (from transformers) (21.3)\n",
            "Requirement already satisfied: requests in /usr/local/lib/python3.9/site-packages (from transformers) (2.25.0)\n",
            "Requirement already satisfied: typing-extensions>=3.7.4.3 in /usr/local/lib/python3.9/site-packages (from huggingface-hub<1.0,>=0.10.0->transformers) (4.3.0)\n",
            "Requirement already satisfied: pyparsing!=3.0.5,>=2.0.2 in /usr/local/lib/python3.9/site-packages (from packaging>=20.0->transformers) (3.0.9)\n",
            "Collecting pyyaml>=5.1\n",
            "  Downloading PyYAML-6.0-cp39-cp39-manylinux_2_5_x86_64.manylinux1_x86_64.manylinux_2_12_x86_64.manylinux2010_x86_64.whl (661 kB)\n",
            "\u001b[K     |████████████████████████████████| 661 kB 85.4 MB/s \n",
            "\u001b[?25hCollecting regex!=2019.12.17\n",
            "  Downloading regex-2022.10.31-cp39-cp39-manylinux_2_17_x86_64.manylinux2014_x86_64.whl (769 kB)\n",
            "\u001b[K     |████████████████████████████████| 769 kB 90.2 MB/s \n",
            "\u001b[?25hRequirement already satisfied: certifi>=2017.4.17 in /usr/local/lib/python3.9/site-packages (from requests->transformers) (2022.9.24)\n",
            "Requirement already satisfied: chardet<4,>=3.0.2 in /usr/local/lib/python3.9/site-packages (from requests->transformers) (3.0.4)\n",
            "Requirement already satisfied: urllib3<1.27,>=1.21.1 in /usr/local/lib/python3.9/site-packages (from requests->transformers) (1.25.11)\n",
            "Requirement already satisfied: idna<3,>=2.5 in /usr/local/lib/python3.9/site-packages (from requests->transformers) (2.10)\n",
            "Collecting tokenizers!=0.11.3,<0.14,>=0.11.1\n",
            "  Downloading tokenizers-0.13.2-cp39-cp39-manylinux_2_17_x86_64.manylinux2014_x86_64.whl (7.6 MB)\n",
            "\u001b[K     |████████████████████████████████| 7.6 MB 53.0 MB/s \n",
            "\u001b[?25hInstalling collected packages: pyyaml, filelock, tokenizers, regex, huggingface-hub, transformers\n",
            "Successfully installed filelock-3.8.0 huggingface-hub-0.10.1 pyyaml-6.0 regex-2022.10.31 tokenizers-0.13.2 transformers-4.24.0\n",
            "Looking in indexes: https://pypi.org/simple, https://us-python.pkg.dev/colab-wheels/public/simple/\n",
            "Collecting tensorboardX\n",
            "  Downloading tensorboardX-2.5.1-py2.py3-none-any.whl (125 kB)\n",
            "\u001b[K     |████████████████████████████████| 125 kB 13.4 MB/s \n",
            "\u001b[?25hRequirement already satisfied: numpy in /usr/local/lib/python3.9/site-packages (from tensorboardX) (1.22.3)\n",
            "Collecting protobuf<=3.20.1,>=3.8.0\n",
            "  Downloading protobuf-3.20.1-cp39-cp39-manylinux_2_5_x86_64.manylinux1_x86_64.whl (1.0 MB)\n",
            "\u001b[K     |████████████████████████████████| 1.0 MB 80.8 MB/s \n",
            "\u001b[?25hInstalling collected packages: protobuf, tensorboardX\n",
            "Successfully installed protobuf-3.20.1 tensorboardX-2.5.1\n",
            "Looking in indexes: https://pypi.org/simple, https://us-python.pkg.dev/colab-wheels/public/simple/\n",
            "Collecting configs\n",
            "  Downloading configs-3.0.3-py3-none-any.whl (7.1 kB)\n",
            "Installing collected packages: configs\n",
            "Successfully installed configs-3.0.3\n",
            "Looking in indexes: https://pypi.org/simple, https://us-python.pkg.dev/colab-wheels/public/simple/\n",
            "Collecting einops\n",
            "  Downloading einops-0.6.0-py3-none-any.whl (41 kB)\n",
            "\u001b[K     |████████████████████████████████| 41 kB 572 kB/s \n",
            "\u001b[?25hInstalling collected packages: einops\n",
            "Successfully installed einops-0.6.0\n",
            "Looking in indexes: https://pypi.org/simple, https://us-python.pkg.dev/colab-wheels/public/simple/\n",
            "Collecting omegaconf\n",
            "  Downloading omegaconf-2.2.3-py3-none-any.whl (79 kB)\n",
            "\u001b[K     |████████████████████████████████| 79 kB 6.0 MB/s \n",
            "\u001b[?25hRequirement already satisfied: PyYAML>=5.1.0 in /usr/local/lib/python3.9/site-packages (from omegaconf) (6.0)\n",
            "Collecting antlr4-python3-runtime==4.9.*\n",
            "  Downloading antlr4-python3-runtime-4.9.3.tar.gz (117 kB)\n",
            "\u001b[K     |████████████████████████████████| 117 kB 32.8 MB/s \n",
            "\u001b[?25hBuilding wheels for collected packages: antlr4-python3-runtime\n",
            "  Building wheel for antlr4-python3-runtime (setup.py) ... \u001b[?25l\u001b[?25hdone\n",
            "  Created wheel for antlr4-python3-runtime: filename=antlr4_python3_runtime-4.9.3-py3-none-any.whl size=144574 sha256=020168b56dfe90d4cb969b16f22c9786ab6c75cbf578aadbb146c61ca86648ec\n",
            "  Stored in directory: /root/.cache/pip/wheels/23/cf/80/f3efa822e6ab23277902ee9165fe772eeb1dfb8014f359020a\n",
            "Successfully built antlr4-python3-runtime\n",
            "Installing collected packages: antlr4-python3-runtime, omegaconf\n",
            "Successfully installed antlr4-python3-runtime-4.9.3 omegaconf-2.2.3\n",
            "Looking in indexes: https://pypi.org/simple, https://us-python.pkg.dev/colab-wheels/public/simple/\n",
            "Collecting hydra-core\n",
            "  Downloading hydra_core-1.2.0-py3-none-any.whl (151 kB)\n",
            "\u001b[K     |████████████████████████████████| 151 kB 14.1 MB/s \n",
            "\u001b[?25hRequirement already satisfied: antlr4-python3-runtime==4.9.* in /usr/local/lib/python3.9/site-packages (from hydra-core) (4.9.3)\n",
            "Requirement already satisfied: omegaconf~=2.2 in /usr/local/lib/python3.9/site-packages (from hydra-core) (2.2.3)\n",
            "Requirement already satisfied: packaging in /usr/local/lib/python3.9/site-packages (from hydra-core) (21.3)\n",
            "Requirement already satisfied: antlr4-python3-runtime==4.9.* in /usr/local/lib/python3.9/site-packages (from hydra-core) (4.9.3)\n",
            "Requirement already satisfied: PyYAML>=5.1.0 in /usr/local/lib/python3.9/site-packages (from omegaconf~=2.2->hydra-core) (6.0)\n",
            "Requirement already satisfied: pyparsing!=3.0.5,>=2.0.2 in /usr/local/lib/python3.9/site-packages (from packaging->hydra-core) (3.0.9)\n",
            "Installing collected packages: hydra-core\n",
            "Successfully installed hydra-core-1.2.0\n",
            "Looking in indexes: https://pypi.org/simple, https://us-python.pkg.dev/colab-wheels/public/simple/\n",
            "Collecting torch\n",
            "  Downloading torch-1.13.0-cp39-cp39-manylinux1_x86_64.whl (890.2 MB)\n",
            "\u001b[K     |██████████████████████████████  | 834.1 MB 1.1 MB/s eta 0:00:50tcmalloc: large alloc 1147494400 bytes == 0x55cbd4262000 @  0x7fd4fe37b615 0x55cb701ce226 0x55cb70235322 0x55cb7023546b 0x55cb702354c9 0x55cb70222883 0x55cb70186f88 0x55cb7023104d 0x55cb70186fc1 0x55cb7023104d 0x55cb701874fe 0x55cb702c92f5 0x55cb70259f07 0x55cb702c92f5 0x55cb70259f07 0x55cb702c92f5 0x55cb70259f07 0x55cb702378f9 0x55cb70237caa 0x55cb70237dc6 0x55cb701d369f 0x55cb702598b6 0x55cb7022f82a 0x55cb70230357 0x55cb701874fe 0x55cb7022f82a 0x55cb70230357 0x55cb701870f8 0x55cb70230603 0x55cb70186f88 0x55cb7023104d\n",
            "\u001b[K     |████████████████████████████████| 890.2 MB 13 kB/s \n",
            "\u001b[?25hRequirement already satisfied: typing-extensions in /usr/local/lib/python3.9/site-packages (from torch) (4.3.0)\n",
            "Collecting nvidia-cublas-cu11==11.10.3.66\n",
            "  Downloading nvidia_cublas_cu11-11.10.3.66-py3-none-manylinux1_x86_64.whl (317.1 MB)\n",
            "\u001b[K     |████████████████████████████████| 317.1 MB 36 kB/s \n",
            "\u001b[?25hRequirement already satisfied: setuptools in /usr/local/lib/python3.9/site-packages (from nvidia-cublas-cu11==11.10.3.66->torch) (51.0.0.post20201207)\n",
            "Requirement already satisfied: wheel in /usr/local/lib/python3.9/site-packages (from nvidia-cublas-cu11==11.10.3.66->torch) (0.36.1)\n",
            "Collecting nvidia-cuda-nvrtc-cu11==11.7.99\n",
            "  Downloading nvidia_cuda_nvrtc_cu11-11.7.99-2-py3-none-manylinux1_x86_64.whl (21.0 MB)\n",
            "\u001b[K     |████████████████████████████████| 21.0 MB 83.3 MB/s \n",
            "\u001b[?25hCollecting nvidia-cuda-runtime-cu11==11.7.99\n",
            "  Downloading nvidia_cuda_runtime_cu11-11.7.99-py3-none-manylinux1_x86_64.whl (849 kB)\n",
            "\u001b[K     |████████████████████████████████| 849 kB 85.6 MB/s \n",
            "\u001b[?25hRequirement already satisfied: setuptools in /usr/local/lib/python3.9/site-packages (from nvidia-cublas-cu11==11.10.3.66->torch) (51.0.0.post20201207)\n",
            "Requirement already satisfied: wheel in /usr/local/lib/python3.9/site-packages (from nvidia-cublas-cu11==11.10.3.66->torch) (0.36.1)\n",
            "Collecting nvidia-cudnn-cu11==8.5.0.96\n",
            "  Downloading nvidia_cudnn_cu11-8.5.0.96-2-py3-none-manylinux1_x86_64.whl (557.1 MB)\n",
            "\u001b[K     |████████████████████████████████| 557.1 MB 12 kB/s \n",
            "\u001b[?25hInstalling collected packages: nvidia-cublas-cu11, nvidia-cudnn-cu11, nvidia-cuda-runtime-cu11, nvidia-cuda-nvrtc-cu11, torch\n",
            "Successfully installed nvidia-cublas-cu11-11.10.3.66 nvidia-cuda-nvrtc-cu11-11.7.99 nvidia-cuda-runtime-cu11-11.7.99 nvidia-cudnn-cu11-8.5.0.96 torch-1.13.0\n",
            "Looking in indexes: https://pypi.org/simple, https://us-python.pkg.dev/colab-wheels/public/simple/\n",
            "Collecting torchvision\n",
            "  Downloading torchvision-0.14.0-cp39-cp39-manylinux1_x86_64.whl (24.3 MB)\n",
            "\u001b[K     |████████████████████████████████| 24.3 MB 13.2 MB/s \n",
            "\u001b[?25hRequirement already satisfied: typing-extensions in /usr/local/lib/python3.9/site-packages (from torchvision) (4.3.0)\n",
            "Requirement already satisfied: numpy in /usr/local/lib/python3.9/site-packages (from torchvision) (1.22.3)\n",
            "Requirement already satisfied: requests in /usr/local/lib/python3.9/site-packages (from torchvision) (2.25.0)\n",
            "Requirement already satisfied: torch==1.13.0 in /usr/local/lib/python3.9/site-packages (from torchvision) (1.13.0)\n",
            "Collecting pillow!=8.3.*,>=5.3.0\n",
            "  Downloading Pillow-9.3.0-cp39-cp39-manylinux_2_17_x86_64.manylinux2014_x86_64.whl (3.2 MB)\n",
            "\u001b[K     |████████████████████████████████| 3.2 MB 86.7 MB/s \n",
            "\u001b[?25hRequirement already satisfied: chardet<4,>=3.0.2 in /usr/local/lib/python3.9/site-packages (from requests->torchvision) (3.0.4)\n",
            "Requirement already satisfied: urllib3<1.27,>=1.21.1 in /usr/local/lib/python3.9/site-packages (from requests->torchvision) (1.25.11)\n",
            "Requirement already satisfied: idna<3,>=2.5 in /usr/local/lib/python3.9/site-packages (from requests->torchvision) (2.10)\n",
            "Requirement already satisfied: certifi>=2017.4.17 in /usr/local/lib/python3.9/site-packages (from requests->torchvision) (2022.9.24)\n",
            "Requirement already satisfied: typing-extensions in /usr/local/lib/python3.9/site-packages (from torchvision) (4.3.0)\n",
            "Requirement already satisfied: nvidia-cuda-runtime-cu11==11.7.99 in /usr/local/lib/python3.9/site-packages (from torch==1.13.0->torchvision) (11.7.99)\n",
            "Requirement already satisfied: nvidia-cuda-nvrtc-cu11==11.7.99 in /usr/local/lib/python3.9/site-packages (from torch==1.13.0->torchvision) (11.7.99)\n",
            "Requirement already satisfied: nvidia-cublas-cu11==11.10.3.66 in /usr/local/lib/python3.9/site-packages (from torch==1.13.0->torchvision) (11.10.3.66)\n",
            "Requirement already satisfied: nvidia-cudnn-cu11==8.5.0.96 in /usr/local/lib/python3.9/site-packages (from torch==1.13.0->torchvision) (8.5.0.96)\n",
            "Requirement already satisfied: setuptools in /usr/local/lib/python3.9/site-packages (from nvidia-cublas-cu11==11.10.3.66->torch==1.13.0->torchvision) (51.0.0.post20201207)\n",
            "Requirement already satisfied: wheel in /usr/local/lib/python3.9/site-packages (from nvidia-cublas-cu11==11.10.3.66->torch==1.13.0->torchvision) (0.36.1)\n",
            "Requirement already satisfied: setuptools in /usr/local/lib/python3.9/site-packages (from nvidia-cublas-cu11==11.10.3.66->torch==1.13.0->torchvision) (51.0.0.post20201207)\n",
            "Requirement already satisfied: wheel in /usr/local/lib/python3.9/site-packages (from nvidia-cublas-cu11==11.10.3.66->torch==1.13.0->torchvision) (0.36.1)\n",
            "Requirement already satisfied: nvidia-cublas-cu11==11.10.3.66 in /usr/local/lib/python3.9/site-packages (from torch==1.13.0->torchvision) (11.10.3.66)\n",
            "Installing collected packages: pillow, torchvision\n",
            "Successfully installed pillow-9.3.0 torchvision-0.14.0\n",
            "Looking in indexes: https://pypi.org/simple, https://us-python.pkg.dev/colab-wheels/public/simple/\n",
            "Collecting opt_einsum\n",
            "  Downloading opt_einsum-3.3.0-py3-none-any.whl (65 kB)\n",
            "\u001b[K     |████████████████████████████████| 65 kB 4.1 MB/s \n",
            "\u001b[?25hRequirement already satisfied: numpy>=1.7 in /usr/local/lib/python3.9/site-packages (from opt_einsum) (1.22.3)\n",
            "Installing collected packages: opt-einsum\n",
            "Successfully installed opt-einsum-3.3.0\n",
            "Looking in indexes: https://pypi.org/simple, https://us-python.pkg.dev/colab-wheels/public/simple/\n",
            "Collecting pytorch_lightning\n",
            "  Downloading pytorch_lightning-1.8.1-py3-none-any.whl (798 kB)\n",
            "\u001b[K     |████████████████████████████████| 798 kB 16.1 MB/s \n",
            "\u001b[?25hRequirement already satisfied: PyYAML>=5.4 in /usr/local/lib/python3.9/site-packages (from pytorch_lightning) (6.0)\n",
            "Requirement already satisfied: numpy>=1.17.2 in /usr/local/lib/python3.9/site-packages (from pytorch_lightning) (1.22.3)\n",
            "Requirement already satisfied: torch>=1.9.* in /usr/local/lib/python3.9/site-packages (from pytorch_lightning) (1.13.0)\n",
            "Requirement already satisfied: typing-extensions>=4.0.0 in /usr/local/lib/python3.9/site-packages (from pytorch_lightning) (4.3.0)\n",
            "Requirement already satisfied: packaging>=17.0 in /usr/local/lib/python3.9/site-packages (from pytorch_lightning) (21.3)\n",
            "Collecting fsspec[http]>2021.06.0\n",
            "  Downloading fsspec-2022.11.0-py3-none-any.whl (139 kB)\n",
            "\u001b[K     |████████████████████████████████| 139 kB 76.2 MB/s \n",
            "\u001b[?25hRequirement already satisfied: requests in /usr/local/lib/python3.9/site-packages (from fsspec[http]>2021.06.0->pytorch_lightning) (2.25.0)\n",
            "Requirement already satisfied: aiohttp!=4.0.0a0,!=4.0.0a1 in /usr/local/lib/python3.9/site-packages (from fsspec[http]>2021.06.0->pytorch_lightning) (3.8.1)\n",
            "Requirement already satisfied: attrs>=17.3.0 in /usr/local/lib/python3.9/site-packages (from aiohttp!=4.0.0a0,!=4.0.0a1->fsspec[http]>2021.06.0->pytorch_lightning) (21.4.0)\n",
            "Requirement already satisfied: async-timeout<5.0,>=4.0.0a3 in /usr/local/lib/python3.9/site-packages (from aiohttp!=4.0.0a0,!=4.0.0a1->fsspec[http]>2021.06.0->pytorch_lightning) (4.0.2)\n",
            "Requirement already satisfied: frozenlist>=1.1.1 in /usr/local/lib/python3.9/site-packages (from aiohttp!=4.0.0a0,!=4.0.0a1->fsspec[http]>2021.06.0->pytorch_lightning) (1.2.0)\n",
            "Requirement already satisfied: multidict<7.0,>=4.5 in /usr/local/lib/python3.9/site-packages (from aiohttp!=4.0.0a0,!=4.0.0a1->fsspec[http]>2021.06.0->pytorch_lightning) (6.0.2)\n",
            "Requirement already satisfied: yarl<2.0,>=1.0 in /usr/local/lib/python3.9/site-packages (from aiohttp!=4.0.0a0,!=4.0.0a1->fsspec[http]>2021.06.0->pytorch_lightning) (1.7.2)\n",
            "Requirement already satisfied: charset-normalizer<3.0,>=2.0 in /usr/local/lib/python3.9/site-packages (from aiohttp!=4.0.0a0,!=4.0.0a1->fsspec[http]>2021.06.0->pytorch_lightning) (2.1.1)\n",
            "Requirement already satisfied: aiosignal>=1.1.2 in /usr/local/lib/python3.9/site-packages (from aiohttp!=4.0.0a0,!=4.0.0a1->fsspec[http]>2021.06.0->pytorch_lightning) (1.3.1)\n",
            "Requirement already satisfied: frozenlist>=1.1.1 in /usr/local/lib/python3.9/site-packages (from aiohttp!=4.0.0a0,!=4.0.0a1->fsspec[http]>2021.06.0->pytorch_lightning) (1.2.0)\n",
            "Collecting lightning-utilities==0.3.*\n",
            "  Downloading lightning_utilities-0.3.0-py3-none-any.whl (15 kB)\n",
            "Collecting fire\n",
            "  Downloading fire-0.4.0.tar.gz (87 kB)\n",
            "\u001b[K     |████████████████████████████████| 87 kB 7.7 MB/s \n",
            "\u001b[?25hRequirement already satisfied: six in /usr/local/lib/python3.9/site-packages (from fire->lightning-utilities==0.3.*->pytorch_lightning) (1.15.0)\n",
            "Requirement already satisfied: pyparsing!=3.0.5,>=2.0.2 in /usr/local/lib/python3.9/site-packages (from packaging>=17.0->pytorch_lightning) (3.0.9)\n",
            "Requirement already satisfied: urllib3<1.27,>=1.21.1 in /usr/local/lib/python3.9/site-packages (from requests->fsspec[http]>2021.06.0->pytorch_lightning) (1.25.11)\n",
            "Requirement already satisfied: idna<3,>=2.5 in /usr/local/lib/python3.9/site-packages (from requests->fsspec[http]>2021.06.0->pytorch_lightning) (2.10)\n",
            "Requirement already satisfied: chardet<4,>=3.0.2 in /usr/local/lib/python3.9/site-packages (from requests->fsspec[http]>2021.06.0->pytorch_lightning) (3.0.4)\n",
            "Requirement already satisfied: certifi>=2017.4.17 in /usr/local/lib/python3.9/site-packages (from requests->fsspec[http]>2021.06.0->pytorch_lightning) (2022.9.24)\n",
            "Collecting tensorboard>=2.9.1\n",
            "  Downloading tensorboard-2.11.0-py3-none-any.whl (6.0 MB)\n",
            "\u001b[K     |████████████████████████████████| 6.0 MB 65.5 MB/s \n",
            "\u001b[?25hRequirement already satisfied: google-auth<3,>=1.6.3 in /usr/local/lib/python3.9/site-packages (from tensorboard>=2.9.1->pytorch_lightning) (2.14.0)\n",
            "Requirement already satisfied: wheel>=0.26 in /usr/local/lib/python3.9/site-packages (from tensorboard>=2.9.1->pytorch_lightning) (0.36.1)\n",
            "Requirement already satisfied: numpy>=1.17.2 in /usr/local/lib/python3.9/site-packages (from pytorch_lightning) (1.22.3)\n",
            "Requirement already satisfied: protobuf<4,>=3.9.2 in /usr/local/lib/python3.9/site-packages (from tensorboard>=2.9.1->pytorch_lightning) (3.20.1)\n",
            "Requirement already satisfied: requests in /usr/local/lib/python3.9/site-packages (from fsspec[http]>2021.06.0->pytorch_lightning) (2.25.0)\n",
            "Requirement already satisfied: setuptools>=41.0.0 in /usr/local/lib/python3.9/site-packages (from tensorboard>=2.9.1->pytorch_lightning) (51.0.0.post20201207)\n",
            "Collecting absl-py>=0.4\n",
            "  Downloading absl_py-1.3.0-py3-none-any.whl (124 kB)\n",
            "\u001b[K     |████████████████████████████████| 124 kB 89.4 MB/s \n",
            "\u001b[?25hRequirement already satisfied: six in /usr/local/lib/python3.9/site-packages (from fire->lightning-utilities==0.3.*->pytorch_lightning) (1.15.0)\n",
            "Requirement already satisfied: rsa<5,>=3.1.4 in /usr/local/lib/python3.9/site-packages (from google-auth<3,>=1.6.3->tensorboard>=2.9.1->pytorch_lightning) (4.9)\n",
            "Requirement already satisfied: pyasn1-modules>=0.2.1 in /usr/local/lib/python3.9/site-packages (from google-auth<3,>=1.6.3->tensorboard>=2.9.1->pytorch_lightning) (0.2.7)\n",
            "Requirement already satisfied: cachetools<6.0,>=2.0.0 in /usr/local/lib/python3.9/site-packages (from google-auth<3,>=1.6.3->tensorboard>=2.9.1->pytorch_lightning) (5.2.0)\n",
            "Collecting google-auth-oauthlib<0.5,>=0.4.1\n",
            "  Downloading google_auth_oauthlib-0.4.6-py2.py3-none-any.whl (18 kB)\n",
            "Requirement already satisfied: google-auth<3,>=1.6.3 in /usr/local/lib/python3.9/site-packages (from tensorboard>=2.9.1->pytorch_lightning) (2.14.0)\n",
            "Collecting grpcio>=1.24.3\n",
            "  Downloading grpcio-1.50.0-cp39-cp39-manylinux_2_17_x86_64.manylinux2014_x86_64.whl (4.7 MB)\n",
            "\u001b[K     |████████████████████████████████| 4.7 MB 89.0 MB/s \n",
            "\u001b[?25hRequirement already satisfied: six in /usr/local/lib/python3.9/site-packages (from fire->lightning-utilities==0.3.*->pytorch_lightning) (1.15.0)\n",
            "Collecting markdown>=2.6.8\n",
            "  Downloading Markdown-3.4.1-py3-none-any.whl (93 kB)\n",
            "\u001b[K     |████████████████████████████████| 93 kB 2.1 MB/s \n",
            "\u001b[?25hRequirement already satisfied: importlib-metadata>=4.4 in /usr/local/lib/python3.9/site-packages (from markdown>=2.6.8->tensorboard>=2.9.1->pytorch_lightning) (4.11.3)\n",
            "Requirement already satisfied: zipp>=0.5 in /usr/local/lib/python3.9/site-packages (from importlib-metadata>=4.4->markdown>=2.6.8->tensorboard>=2.9.1->pytorch_lightning) (3.8.0)\n",
            "Requirement already satisfied: pyasn1<0.5.0,>=0.4.6 in /usr/local/lib/python3.9/site-packages (from pyasn1-modules>=0.2.1->google-auth<3,>=1.6.3->tensorboard>=2.9.1->pytorch_lightning) (0.4.8)\n",
            "Collecting requests-oauthlib>=0.7.0\n",
            "  Downloading requests_oauthlib-1.3.1-py2.py3-none-any.whl (23 kB)\n",
            "Requirement already satisfied: requests in /usr/local/lib/python3.9/site-packages (from fsspec[http]>2021.06.0->pytorch_lightning) (2.25.0)\n",
            "Collecting oauthlib>=3.0.0\n",
            "  Downloading oauthlib-3.2.2-py3-none-any.whl (151 kB)\n",
            "\u001b[K     |████████████████████████████████| 151 kB 101.4 MB/s \n",
            "\u001b[?25hRequirement already satisfied: pyasn1<0.5.0,>=0.4.6 in /usr/local/lib/python3.9/site-packages (from pyasn1-modules>=0.2.1->google-auth<3,>=1.6.3->tensorboard>=2.9.1->pytorch_lightning) (0.4.8)\n",
            "Collecting tensorboard-data-server<0.7.0,>=0.6.0\n",
            "  Downloading tensorboard_data_server-0.6.1-py3-none-manylinux2010_x86_64.whl (4.9 MB)\n",
            "\u001b[K     |████████████████████████████████| 4.9 MB 60.0 MB/s \n",
            "\u001b[?25hCollecting tensorboard-plugin-wit>=1.6.0\n",
            "  Downloading tensorboard_plugin_wit-1.8.1-py3-none-any.whl (781 kB)\n",
            "\u001b[K     |████████████████████████████████| 781 kB 92.1 MB/s \n",
            "\u001b[?25hCollecting termcolor\n",
            "  Downloading termcolor-2.1.0-py3-none-any.whl (5.8 kB)\n",
            "Requirement already satisfied: nvidia-cuda-nvrtc-cu11==11.7.99 in /usr/local/lib/python3.9/site-packages (from torch>=1.9.*->pytorch_lightning) (11.7.99)\n",
            "Requirement already satisfied: nvidia-cudnn-cu11==8.5.0.96 in /usr/local/lib/python3.9/site-packages (from torch>=1.9.*->pytorch_lightning) (8.5.0.96)\n",
            "Requirement already satisfied: nvidia-cublas-cu11==11.10.3.66 in /usr/local/lib/python3.9/site-packages (from torch>=1.9.*->pytorch_lightning) (11.10.3.66)\n",
            "Requirement already satisfied: typing-extensions>=4.0.0 in /usr/local/lib/python3.9/site-packages (from pytorch_lightning) (4.3.0)\n",
            "Requirement already satisfied: nvidia-cuda-runtime-cu11==11.7.99 in /usr/local/lib/python3.9/site-packages (from torch>=1.9.*->pytorch_lightning) (11.7.99)\n",
            "Requirement already satisfied: wheel>=0.26 in /usr/local/lib/python3.9/site-packages (from tensorboard>=2.9.1->pytorch_lightning) (0.36.1)\n",
            "Requirement already satisfied: setuptools>=41.0.0 in /usr/local/lib/python3.9/site-packages (from tensorboard>=2.9.1->pytorch_lightning) (51.0.0.post20201207)\n",
            "Requirement already satisfied: wheel>=0.26 in /usr/local/lib/python3.9/site-packages (from tensorboard>=2.9.1->pytorch_lightning) (0.36.1)\n",
            "Requirement already satisfied: setuptools>=41.0.0 in /usr/local/lib/python3.9/site-packages (from tensorboard>=2.9.1->pytorch_lightning) (51.0.0.post20201207)\n",
            "Requirement already satisfied: nvidia-cublas-cu11==11.10.3.66 in /usr/local/lib/python3.9/site-packages (from torch>=1.9.*->pytorch_lightning) (11.10.3.66)\n",
            "Collecting torchmetrics>=0.7.0\n",
            "  Downloading torchmetrics-0.10.2-py3-none-any.whl (529 kB)\n",
            "\u001b[K     |████████████████████████████████| 529 kB 102.6 MB/s \n",
            "\u001b[?25hRequirement already satisfied: torch>=1.9.* in /usr/local/lib/python3.9/site-packages (from pytorch_lightning) (1.13.0)\n",
            "Requirement already satisfied: packaging>=17.0 in /usr/local/lib/python3.9/site-packages (from pytorch_lightning) (21.3)\n",
            "Requirement already satisfied: numpy>=1.17.2 in /usr/local/lib/python3.9/site-packages (from pytorch_lightning) (1.22.3)\n",
            "Collecting tqdm>=4.57.0\n",
            "  Downloading tqdm-4.64.1-py2.py3-none-any.whl (78 kB)\n",
            "\u001b[K     |████████████████████████████████| 78 kB 9.7 MB/s \n",
            "\u001b[?25hCollecting werkzeug>=1.0.1\n",
            "  Downloading Werkzeug-2.2.2-py3-none-any.whl (232 kB)\n",
            "\u001b[K     |████████████████████████████████| 232 kB 104.1 MB/s \n",
            "\u001b[?25hRequirement already satisfied: MarkupSafe>=2.1.1 in /usr/local/lib/python3.9/site-packages (from werkzeug>=1.0.1->tensorboard>=2.9.1->pytorch_lightning) (2.1.1)\n",
            "Requirement already satisfied: multidict<7.0,>=4.5 in /usr/local/lib/python3.9/site-packages (from aiohttp!=4.0.0a0,!=4.0.0a1->fsspec[http]>2021.06.0->pytorch_lightning) (6.0.2)\n",
            "Requirement already satisfied: idna<3,>=2.5 in /usr/local/lib/python3.9/site-packages (from requests->fsspec[http]>2021.06.0->pytorch_lightning) (2.10)\n",
            "Building wheels for collected packages: fire\n",
            "  Building wheel for fire (setup.py) ... \u001b[?25l\u001b[?25hdone\n",
            "  Created wheel for fire: filename=fire-0.4.0-py2.py3-none-any.whl size=115926 sha256=8f2f993a0bbba89e435afdc2bf2e8948b34baaef11e967e3c01bbdf26a591d3e\n",
            "  Stored in directory: /root/.cache/pip/wheels/2a/93/86/8cd17bc6c40fb605c3ac549d0b860ef7e84ee5f67bf01a3287\n",
            "Successfully built fire\n",
            "Installing collected packages: oauthlib, termcolor, requests-oauthlib, werkzeug, tensorboard-plugin-wit, tensorboard-data-server, markdown, grpcio, google-auth-oauthlib, fsspec, fire, absl-py, tqdm, torchmetrics, tensorboard, lightning-utilities, pytorch-lightning\n",
            "  Attempting uninstall: tqdm\n",
            "    Found existing installation: tqdm 4.54.1\n",
            "    Uninstalling tqdm-4.54.1:\n",
            "      Successfully uninstalled tqdm-4.54.1\n",
            "Successfully installed absl-py-1.3.0 fire-0.4.0 fsspec-2022.11.0 google-auth-oauthlib-0.4.6 grpcio-1.50.0 lightning-utilities-0.3.0 markdown-3.4.1 oauthlib-3.2.2 pytorch-lightning-1.8.1 requests-oauthlib-1.3.1 tensorboard-2.11.0 tensorboard-data-server-0.6.1 tensorboard-plugin-wit-1.8.1 termcolor-2.1.0 torchmetrics-0.10.2 tqdm-4.64.1 werkzeug-2.2.2\n",
            "Looking in indexes: https://pypi.org/simple, https://us-python.pkg.dev/colab-wheels/public/simple/\n",
            "Collecting rich\n",
            "  Downloading rich-12.6.0-py3-none-any.whl (237 kB)\n",
            "\u001b[K     |████████████████████████████████| 237 kB 13.8 MB/s \n",
            "\u001b[?25hRequirement already satisfied: pygments<3.0.0,>=2.6.0 in /usr/local/lib/python3.9/site-packages (from rich) (2.11.2)\n",
            "Collecting commonmark<0.10.0,>=0.9.0\n",
            "  Downloading commonmark-0.9.1-py2.py3-none-any.whl (51 kB)\n",
            "\u001b[K     |████████████████████████████████| 51 kB 9.6 MB/s \n",
            "\u001b[?25hInstalling collected packages: commonmark, rich\n",
            "Successfully installed commonmark-0.9.1 rich-12.6.0\n",
            "Looking in indexes: https://pypi.org/simple, https://us-python.pkg.dev/colab-wheels/public/simple/\n",
            "Collecting matplotlib\n",
            "  Downloading matplotlib-3.6.2-cp39-cp39-manylinux_2_17_x86_64.manylinux2014_x86_64.whl (11.8 MB)\n",
            "\u001b[K     |████████████████████████████████| 11.8 MB 14.4 MB/s \n",
            "\u001b[?25hRequirement already satisfied: python-dateutil>=2.7 in /usr/local/lib/python3.9/site-packages (from matplotlib) (2.8.2)\n",
            "Requirement already satisfied: numpy>=1.19 in /usr/local/lib/python3.9/site-packages (from matplotlib) (1.22.3)\n",
            "Requirement already satisfied: packaging>=20.0 in /usr/local/lib/python3.9/site-packages (from matplotlib) (21.3)\n",
            "Requirement already satisfied: pyparsing>=2.2.1 in /usr/local/lib/python3.9/site-packages (from matplotlib) (3.0.9)\n",
            "Requirement already satisfied: pillow>=6.2.0 in /usr/local/lib/python3.9/site-packages (from matplotlib) (9.3.0)\n",
            "Collecting scikit-learn\n",
            "  Downloading scikit_learn-1.1.3-cp39-cp39-manylinux_2_17_x86_64.manylinux2014_x86_64.whl (30.8 MB)\n",
            "\u001b[K     |████████████████████████████████| 30.8 MB 170 kB/s \n",
            "\u001b[?25hRequirement already satisfied: numpy>=1.19 in /usr/local/lib/python3.9/site-packages (from matplotlib) (1.22.3)\n",
            "Collecting scipy\n",
            "  Downloading scipy-1.9.3-cp39-cp39-manylinux_2_17_x86_64.manylinux2014_x86_64.whl (33.8 MB)\n",
            "\u001b[K     |████████████████████████████████| 33.8 MB 1.2 MB/s \n",
            "\u001b[?25hRequirement already satisfied: numpy>=1.19 in /usr/local/lib/python3.9/site-packages (from matplotlib) (1.22.3)\n",
            "Collecting contourpy>=1.0.1\n",
            "  Downloading contourpy-1.0.6-cp39-cp39-manylinux_2_17_x86_64.manylinux2014_x86_64.whl (296 kB)\n",
            "\u001b[K     |████████████████████████████████| 296 kB 59.5 MB/s \n",
            "\u001b[?25hRequirement already satisfied: numpy>=1.19 in /usr/local/lib/python3.9/site-packages (from matplotlib) (1.22.3)\n",
            "Collecting cycler>=0.10\n",
            "  Downloading cycler-0.11.0-py3-none-any.whl (6.4 kB)\n",
            "Collecting fonttools>=4.22.0\n",
            "  Downloading fonttools-4.38.0-py3-none-any.whl (965 kB)\n",
            "\u001b[K     |████████████████████████████████| 965 kB 66.7 MB/s \n",
            "\u001b[?25hCollecting joblib>=1.0.0\n",
            "  Downloading joblib-1.2.0-py3-none-any.whl (297 kB)\n",
            "\u001b[K     |████████████████████████████████| 297 kB 80.6 MB/s \n",
            "\u001b[?25hCollecting kiwisolver>=1.0.1\n",
            "  Downloading kiwisolver-1.4.4-cp39-cp39-manylinux_2_12_x86_64.manylinux2010_x86_64.whl (1.6 MB)\n",
            "\u001b[K     |████████████████████████████████| 1.6 MB 60.2 MB/s \n",
            "\u001b[?25hRequirement already satisfied: pyparsing>=2.2.1 in /usr/local/lib/python3.9/site-packages (from matplotlib) (3.0.9)\n",
            "Requirement already satisfied: six>=1.5 in /usr/local/lib/python3.9/site-packages (from python-dateutil>=2.7->matplotlib) (1.15.0)\n",
            "Collecting threadpoolctl>=2.0.0\n",
            "  Downloading threadpoolctl-3.1.0-py3-none-any.whl (14 kB)\n",
            "Installing collected packages: threadpoolctl, scipy, kiwisolver, joblib, fonttools, cycler, contourpy, scikit-learn, matplotlib\n",
            "Successfully installed contourpy-1.0.6 cycler-0.11.0 fonttools-4.38.0 joblib-1.2.0 kiwisolver-1.4.4 matplotlib-3.6.2 scikit-learn-1.1.3 scipy-1.9.3 threadpoolctl-3.1.0\n"
          ]
        },
        {
          "output_type": "display_data",
          "data": {
            "application/vnd.colab-display-data+json": {
              "pip_warning": {
                "packages": [
                  "cycler",
                  "kiwisolver"
                ]
              }
            }
          },
          "metadata": {}
        },
        {
          "output_type": "stream",
          "name": "stdout",
          "text": [
            "Looking in indexes: https://pypi.org/simple, https://us-python.pkg.dev/colab-wheels/public/simple/\n",
            "Looking in links: https://download.pytorch.org/whl/torch_stable.html\n",
            "Requirement already satisfied: torch in /usr/local/lib/python3.9/site-packages (1.13.0)\n",
            "Requirement already satisfied: torchvision in /usr/local/lib/python3.9/site-packages (0.14.0)\n",
            "Requirement already satisfied: nvidia-cuda-nvrtc-cu11==11.7.99 in /usr/local/lib/python3.9/site-packages (from torch) (11.7.99)\n",
            "Requirement already satisfied: typing-extensions in /usr/local/lib/python3.9/site-packages (from torch) (4.3.0)\n",
            "Requirement already satisfied: nvidia-cudnn-cu11==8.5.0.96 in /usr/local/lib/python3.9/site-packages (from torch) (8.5.0.96)\n",
            "Requirement already satisfied: nvidia-cublas-cu11==11.10.3.66 in /usr/local/lib/python3.9/site-packages (from torch) (11.10.3.66)\n",
            "Requirement already satisfied: nvidia-cuda-runtime-cu11==11.7.99 in /usr/local/lib/python3.9/site-packages (from torch) (11.7.99)\n",
            "Collecting torchaudio\n",
            "  Downloading https://download.pytorch.org/whl/rocm5.2/torchaudio-0.13.0%2Brocm5.2-cp39-cp39-linux_x86_64.whl (3.9 MB)\n",
            "\u001b[K     |████████████████████████████████| 3.9 MB 16.7 MB/s \n",
            "\u001b[?25hRequirement already satisfied: torch in /usr/local/lib/python3.9/site-packages (1.13.0)\n",
            "Requirement already satisfied: typing-extensions in /usr/local/lib/python3.9/site-packages (from torch) (4.3.0)\n",
            "Requirement already satisfied: pillow!=8.3.*,>=5.3.0 in /usr/local/lib/python3.9/site-packages (from torchvision) (9.3.0)\n",
            "Requirement already satisfied: torch in /usr/local/lib/python3.9/site-packages (1.13.0)\n",
            "Requirement already satisfied: requests in /usr/local/lib/python3.9/site-packages (from torchvision) (2.25.0)\n",
            "Requirement already satisfied: numpy in /usr/local/lib/python3.9/site-packages (from torchvision) (1.22.3)\n",
            "Requirement already satisfied: setuptools in /usr/local/lib/python3.9/site-packages (from nvidia-cublas-cu11==11.10.3.66->torch) (51.0.0.post20201207)\n",
            "Requirement already satisfied: wheel in /usr/local/lib/python3.9/site-packages (from nvidia-cublas-cu11==11.10.3.66->torch) (0.36.1)\n",
            "Requirement already satisfied: setuptools in /usr/local/lib/python3.9/site-packages (from nvidia-cublas-cu11==11.10.3.66->torch) (51.0.0.post20201207)\n",
            "Requirement already satisfied: wheel in /usr/local/lib/python3.9/site-packages (from nvidia-cublas-cu11==11.10.3.66->torch) (0.36.1)\n",
            "Requirement already satisfied: nvidia-cublas-cu11==11.10.3.66 in /usr/local/lib/python3.9/site-packages (from torch) (11.10.3.66)\n",
            "Requirement already satisfied: chardet<4,>=3.0.2 in /usr/local/lib/python3.9/site-packages (from requests->torchvision) (3.0.4)\n",
            "Requirement already satisfied: certifi>=2017.4.17 in /usr/local/lib/python3.9/site-packages (from requests->torchvision) (2022.9.24)\n",
            "Requirement already satisfied: idna<3,>=2.5 in /usr/local/lib/python3.9/site-packages (from requests->torchvision) (2.10)\n",
            "Requirement already satisfied: urllib3<1.27,>=1.21.1 in /usr/local/lib/python3.9/site-packages (from requests->torchvision) (1.25.11)\n",
            "Installing collected packages: torchaudio\n",
            "Successfully installed torchaudio-0.13.0+rocm5.2\n",
            "Looking in indexes: https://pypi.org/simple, https://us-python.pkg.dev/colab-wheels/public/simple/\n",
            "Looking in links: https://download.pytorch.org/whl/torch_stable.html\n",
            "Collecting torch==1.8.1+cu111\n",
            "  Downloading https://download.pytorch.org/whl/cu111/torch-1.8.1%2Bcu111-cp39-cp39-linux_x86_64.whl (1982.2 MB)\n",
            "\u001b[K     |█████████████▌                  | 834.1 MB 136.3 MB/s eta 0:00:09tcmalloc: large alloc 1147494400 bytes == 0x557dac77a000 @  0x7fd6968a4615 0x557d73e7c226 0x557d73ee3322 0x557d73ee346b 0x557d73ee34c9 0x557d73ed0883 0x557d73e34f88 0x557d73edf04d 0x557d73e34fc1 0x557d73edf04d 0x557d73e354fe 0x557d73f772f5 0x557d73f07f07 0x557d73f772f5 0x557d73f07f07 0x557d73f772f5 0x557d73f07f07 0x557d73ee58f9 0x557d73ee5caa 0x557d73ee5dc6 0x557d73e8169f 0x557d73f078b6 0x557d73edd82a 0x557d73ede357 0x557d73e354fe 0x557d73edd82a 0x557d73ede357 0x557d73e350f8 0x557d73ede603 0x557d73e34f88 0x557d73edf04d\n",
            "\u001b[K     |█████████████████               | 1055.7 MB 98.2 MB/s eta 0:00:10tcmalloc: large alloc 1434370048 bytes == 0x557df0dd0000 @  0x7fd6968a4615 0x557d73e7c226 0x557d73ee3322 0x557d73ee346b 0x557d73ee34c9 0x557d73ed0883 0x557d73e34f88 0x557d73edf04d 0x557d73e34fc1 0x557d73edf04d 0x557d73e354fe 0x557d73f772f5 0x557d73f07f07 0x557d73f772f5 0x557d73f07f07 0x557d73f772f5 0x557d73f07f07 0x557d73ee58f9 0x557d73ee5caa 0x557d73ee5dc6 0x557d73e8169f 0x557d73f078b6 0x557d73edd82a 0x557d73ede357 0x557d73e354fe 0x557d73edd82a 0x557d73ede357 0x557d73e350f8 0x557d73ede603 0x557d73e34f88 0x557d73edf04d\n",
            "\u001b[K     |█████████████████████▋          | 1336.2 MB 106.0 MB/s eta 0:00:07tcmalloc: large alloc 1792966656 bytes == 0x557d75c02000 @  0x7fd6968a4615 0x557d73e7c226 0x557d73ee3322 0x557d73ee346b 0x557d73ee34c9 0x557d73ed0883 0x557d73e34f88 0x557d73edf04d 0x557d73e34fc1 0x557d73edf04d 0x557d73e354fe 0x557d73f772f5 0x557d73f07f07 0x557d73f772f5 0x557d73f07f07 0x557d73f772f5 0x557d73f07f07 0x557d73ee58f9 0x557d73ee5caa 0x557d73ee5dc6 0x557d73e8169f 0x557d73f078b6 0x557d73edd82a 0x557d73ede357 0x557d73e354fe 0x557d73edd82a 0x557d73ede357 0x557d73e350f8 0x557d73ede603 0x557d73e34f88 0x557d73edf04d\n",
            "\u001b[K     |███████████████████████████▎    | 1691.1 MB 1.5 MB/s eta 0:03:19tcmalloc: large alloc 2241208320 bytes == 0x557de09ea000 @  0x7fd6968a4615 0x557d73e7c226 0x557d73ee3322 0x557d73ee346b 0x557d73ee34c9 0x557d73ed0883 0x557d73e34f88 0x557d73edf04d 0x557d73e34fc1 0x557d73edf04d 0x557d73e354fe 0x557d73f772f5 0x557d73f07f07 0x557d73f772f5 0x557d73f07f07 0x557d73f772f5 0x557d73f07f07 0x557d73ee58f9 0x557d73ee5caa 0x557d73ee5dc6 0x557d73e8169f 0x557d73f078b6 0x557d73edd82a 0x557d73ede357 0x557d73e354fe 0x557d73edd82a 0x557d73ede357 0x557d73e350f8 0x557d73ede603 0x557d73e34f88 0x557d73edf04d\n",
            "\u001b[K     |████████████████████████████████| 1982.2 MB 1.4 MB/s eta 0:00:01tcmalloc: large alloc 1982193664 bytes == 0x557e6634c000 @  0x7fd6968a31e7 0x557d73e65f4c 0x557d73d9f54c 0x557d73e7c226 0x557d73ee3322 0x557d73ee346b 0x557d73ee34c9 0x557d73ed0883 0x557d73e34f88 0x557d73edd82a 0x557d73ede357 0x557d73e34f88 0x557d73edd82a 0x557d73ede357 0x557d73e34f88 0x557d73edd82a 0x557d73ede357 0x557d73e34f88 0x557d73edd82a 0x557d73ede357 0x557d73e34f88 0x557d73edd82a 0x557d73ede357 0x557d73e34f88 0x557d73ede603 0x557d73e34f88 0x557d73edd82a 0x557d73ede357 0x557d73e354fe 0x557d73edf04d 0x557d73e354fe\n",
            "tcmalloc: large alloc 2477744128 bytes == 0x557f509d8000 @  0x7fd6968a4615 0x557d73e7c226 0x557d73ee3322 0x557d73ee346b 0x557d73ee34c9 0x557d73ed0883 0x557d73e34f88 0x557d73edd82a 0x557d73ede357 0x557d73e34f88 0x557d73edd82a 0x557d73ede357 0x557d73e34f88 0x557d73edd82a 0x557d73ede357 0x557d73e34f88 0x557d73edd82a 0x557d73ede357 0x557d73e34f88 0x557d73edd82a 0x557d73ede357 0x557d73e34f88 0x557d73ede603 0x557d73e34f88 0x557d73edd82a 0x557d73ede357 0x557d73e354fe 0x557d73edf04d 0x557d73e354fe 0x557d73edd82a 0x557d73ede357\n",
            "\u001b[K     |████████████████████████████████| 1982.2 MB 3.4 kB/s \n",
            "\u001b[?25hRequirement already satisfied: typing-extensions in /usr/local/lib/python3.9/site-packages (from torch==1.8.1+cu111) (4.3.0)\n",
            "Requirement already satisfied: numpy in /usr/local/lib/python3.9/site-packages (from torch==1.8.1+cu111) (1.22.3)\n",
            "Collecting torchaudio==0.8.1\n",
            "  Downloading torchaudio-0.8.1-cp39-cp39-manylinux1_x86_64.whl (1.9 MB)\n",
            "\u001b[K     |████████████████████████████████| 1.9 MB 7.2 MB/s \n",
            "\u001b[?25hCollecting torchvision==0.9.1+cu111\n",
            "  Downloading https://download.pytorch.org/whl/cu111/torchvision-0.9.1%2Bcu111-cp39-cp39-linux_x86_64.whl (17.6 MB)\n",
            "\u001b[K     |████████████████████████████████| 17.6 MB 321 kB/s \n",
            "\u001b[?25hRequirement already satisfied: numpy in /usr/local/lib/python3.9/site-packages (from torch==1.8.1+cu111) (1.22.3)\n",
            "Requirement already satisfied: pillow>=4.1.1 in /usr/local/lib/python3.9/site-packages (from torchvision==0.9.1+cu111) (9.3.0)\n",
            "Installing collected packages: torch, torchvision, torchaudio\n",
            "  Attempting uninstall: torch\n",
            "    Found existing installation: torch 1.13.0\n",
            "    Uninstalling torch-1.13.0:\n",
            "      Successfully uninstalled torch-1.13.0\n",
            "  Attempting uninstall: torchvision\n",
            "    Found existing installation: torchvision 0.14.0\n",
            "    Uninstalling torchvision-0.14.0:\n",
            "      Successfully uninstalled torchvision-0.14.0\n",
            "  Attempting uninstall: torchaudio\n",
            "    Found existing installation: torchaudio 0.13.0+rocm5.2\n",
            "    Uninstalling torchaudio-0.13.0+rocm5.2:\n",
            "      Successfully uninstalled torchaudio-0.13.0+rocm5.2\n",
            "\u001b[31mERROR: pip's dependency resolver does not currently take into account all the packages that are installed. This behaviour is the source of the following dependency conflicts.\n",
            "pytorch-lightning 1.8.1 requires torch>=1.9.*, but you have torch 1.8.1+cu111 which is incompatible.\u001b[0m\n",
            "Successfully installed torch-1.8.1+cu111 torchaudio-0.8.1 torchvision-0.9.1+cu111\n"
          ]
        }
      ],
      "source": [
        "!pip install opencv-python\n",
        "!pip install transformers \n",
        "!pip install tensorboardX\n",
        "!pip install configs\n",
        "!pip install einops\n",
        "!pip install omegaconf\n",
        "!pip install hydra-core --upgrade\n",
        "!pip install torch\n",
        "!pip install torchvision\n",
        "!pip install opt_einsum\n",
        "!pip install pytorch_lightning\n",
        "!pip install rich\n",
        "!pip3 install -U scikit-learn scipy matplotlib\n",
        "!pip3 install torch torchvision torchaudio -f https://download.pytorch.org/whl/torch_stable.html\n",
        "!pip3 install torch==1.8.1+cu111 torchvision==0.9.1+cu111 torchaudio==0.8.1 -f https://download.pytorch.org/whl/torch_stable.html"
      ]
    },
    {
      "cell_type": "code",
      "source": [
        "from google.colab import drive\n",
        "drive.mount('/content/drive')"
      ],
      "metadata": {
        "colab": {
          "base_uri": "https://localhost:8080/"
        },
        "id": "sFsLzLQvulGG",
        "outputId": "c1a31da3-672b-4693-d482-ef7e19a2b6f3"
      },
      "execution_count": 3,
      "outputs": [
        {
          "output_type": "stream",
          "name": "stdout",
          "text": [
            "Mounted at /content/drive\n"
          ]
        }
      ]
    },
    {
      "cell_type": "code",
      "source": [
        "!unrar x /content/drive/MyDrive/apex.rar "
      ],
      "metadata": {
        "id": "-zbM4o7y3tO3"
      },
      "execution_count": null,
      "outputs": []
    },
    {
      "cell_type": "code",
      "execution_count": null,
      "metadata": {
        "id": "lWQXqcy5NTvg"
      },
      "outputs": [],
      "source": [
        "! git clone https://github.com/NVIDIA/apex\n",
        "%cd /content/apex\n",
        "!python3 setup.py install"
      ]
    },
    {
      "cell_type": "code",
      "execution_count": 6,
      "metadata": {
        "colab": {
          "base_uri": "https://localhost:8080/"
        },
        "id": "zLDizj1DNV86",
        "outputId": "5a601cf5-05f8-456f-c5f5-69da7de5f690"
      },
      "outputs": [
        {
          "output_type": "stream",
          "name": "stdout",
          "text": [
            "/content\n"
          ]
        }
      ],
      "source": [
        "%cd /content"
      ]
    },
    {
      "cell_type": "code",
      "execution_count": 7,
      "metadata": {
        "colab": {
          "base_uri": "https://localhost:8080/"
        },
        "id": "7PjjnjbQNYNp",
        "outputId": "f81246be-7250-4228-be67-84ee232429e7"
      },
      "outputs": [
        {
          "output_type": "stream",
          "name": "stdout",
          "text": [
            "Cloning into 'ActionBERTwSashimi'...\n",
            "remote: Enumerating objects: 204, done.\u001b[K\n",
            "remote: Counting objects: 100% (204/204), done.\u001b[K\n",
            "remote: Compressing objects: 100% (182/182), done.\u001b[K\n",
            "remote: Total 204 (delta 14), reused 201 (delta 14), pack-reused 0\u001b[K\n",
            "Receiving objects: 100% (204/204), 333.89 KiB | 13.91 MiB/s, done.\n",
            "Resolving deltas: 100% (14/14), done.\n"
          ]
        }
      ],
      "source": [
        "! git clone https://github.com/MahiAh19/ActionBERTwSashimi"
      ]
    },
    {
      "cell_type": "code",
      "execution_count": 22,
      "metadata": {
        "colab": {
          "base_uri": "https://localhost:8080/"
        },
        "id": "xeAtsMbGNagR",
        "outputId": "75fb258f-0d35-4ad9-b47e-64c79b4abc31"
      },
      "outputs": [
        {
          "output_type": "stream",
          "name": "stdout",
          "text": [
            "/content/ActionBERTwSashimi\n"
          ]
        }
      ],
      "source": [
        "%cd /content/ActionBERTwSashimi"
      ]
    },
    {
      "cell_type": "code",
      "execution_count": null,
      "metadata": {
        "id": "afWGCkXHNcTQ"
      },
      "outputs": [],
      "source": [
        "! wget http://crcv.ucf.edu/data/UCF101/UCF101.rar --no-check-certificate\n",
        "! wget https://www.crcv.ucf.edu/data/UCF101/UCF101TrainTestSplits-RecognitionTask.zip --no-check-certificate"
      ]
    },
    {
      "cell_type": "code",
      "execution_count": 10,
      "metadata": {
        "id": "nt719l2UNe4J"
      },
      "outputs": [],
      "source": [
        "%%capture\n",
        "!unrar x UCF101.rar \n",
        "!unzip -qq UCF101TrainTestSplits-RecognitionTask.zip "
      ]
    },
    {
      "cell_type": "code",
      "execution_count": 11,
      "metadata": {
        "colab": {
          "base_uri": "https://localhost:8080/"
        },
        "id": "aWTejBgLNff5",
        "outputId": "e1cb186d-5539-4e8a-e20e-897caea29e11"
      },
      "outputs": [
        {
          "output_type": "stream",
          "name": "stdout",
          "text": [
            "\u001b[K     |████████████████████████████████| 1.9 MB 13.8 MB/s \n",
            "\u001b[K     |████████████████████████████████| 96 kB 6.9 MB/s \n",
            "\u001b[K     |████████████████████████████████| 182 kB 99.7 MB/s \n",
            "\u001b[K     |████████████████████████████████| 63 kB 2.0 MB/s \n",
            "\u001b[K     |████████████████████████████████| 166 kB 86.5 MB/s \n",
            "\u001b[K     |████████████████████████████████| 140 kB 93.5 MB/s \n",
            "\u001b[?25h  Building wheel for pathtools (setup.py) ... \u001b[?25l\u001b[?25hdone\n",
            "  Building wheel for promise (setup.py) ... \u001b[?25l\u001b[?25hdone\n",
            "\u001b[34m\u001b[1mwandb\u001b[0m: Logging into wandb.ai. (Learn how to deploy a W&B server locally: https://wandb.me/wandb-server)\n",
            "\u001b[34m\u001b[1mwandb\u001b[0m: You can find your API key in your browser here: https://wandb.ai/authorize\n",
            "\u001b[34m\u001b[1mwandb\u001b[0m: Paste an API key from your profile and hit enter, or press ctrl+c to quit: \n",
            "\u001b[34m\u001b[1mwandb\u001b[0m: Appending key for api.wandb.ai to your netrc file: /root/.netrc\n"
          ]
        }
      ],
      "source": [
        "!pip install wandb -qU\n",
        "!wandb login"
      ]
    },
    {
      "cell_type": "code",
      "execution_count": 13,
      "metadata": {
        "colab": {
          "base_uri": "https://localhost:8080/"
        },
        "id": "9vNbak6pNjIg",
        "outputId": "d777a19f-b395-4696-e8ca-face13afc9d5"
      },
      "outputs": [
        {
          "output_type": "stream",
          "name": "stdout",
          "text": [
            "Train, Validation and Test sets saved in:\n",
            "/content/ActionBERTwSashimi/testFrame/train_ucf101.json\n",
            "/content/ActionBERTwSashimi/testFrame/val_ucf101.json\n",
            "/content/ActionBERTwSashimi/testFrame/test_ucf101.json\n",
            "\n",
            "0 / 13320\n",
            "1000 / 13320\n",
            "2000 / 13320\n",
            "3000 / 13320\n",
            "4000 / 13320\n",
            "5000 / 13320\n",
            "6000 / 13320\n",
            "7000 / 13320\n",
            "8000 / 13320\n",
            "9000 / 13320\n",
            "10000 / 13320\n",
            "11000 / 13320\n",
            "12000 / 13320\n",
            "13000 / 13320\n",
            "Done! Video Frames saved in /content/ActionBERTwSashimi/testFrame/frames_fps_1\n"
          ]
        }
      ],
      "source": [
        "! python3 /content/ActionBERTwSashimi/prepare_ucf101.py \\\n",
        "-v /content/ActionBERTwSashimi/UCF-101\\\n",
        "-o /content/ActionBERTwSashimi/testFrame\\\n",
        "-s 0.8 -fps 1"
      ]
    },
    {
      "cell_type": "code",
      "execution_count": 14,
      "metadata": {
        "colab": {
          "base_uri": "https://localhost:8080/"
        },
        "id": "KOIElo_PNjyI",
        "outputId": "ef837567-3463-4785-ff7f-6ba1d2015057"
      },
      "outputs": [
        {
          "output_type": "stream",
          "name": "stdout",
          "text": [
            "Selected Device: cuda:0\n",
            "13320\n",
            "Total Videos: 1405  |  Total Frames: 9523  |  Max Video length: 71\n",
            "Downloading: \"https://download.pytorch.org/models/resnet18-5c106cde.pth\" to /root/.cache/torch/hub/checkpoints/resnet18-5c106cde.pth\n",
            "100% 44.7M/44.7M [00:01<00:00, 27.4MB/s]\n",
            "Processed json saved at /content/ActionBERTwSashimi/testFrame/data_res18_fps_1/test.json\n",
            "Embeddings: 100% 10/10 [00:13<00:00,  1.38s/it]\n",
            "The embeddings memmap file saved at /content/ActionBERTwSashimi/testFrame/data_res18_fps_1/test.npy\n",
            "Total execution time 20.46 secs\n"
          ]
        }
      ],
      "source": [
        "! python3 /content/ActionBERTwSashimi/prepare_data.py -s test \\\n",
        "-f /content/ActionBERTwSashimi/testFrame/frames_fps_1\\\n",
        "-j /content/ActionBERTwSashimi/testFrame/test_ucf101.json \\\n",
        "-o /content/ActionBERTwSashimi/testFrame/data_res18_fps_1 \\\n",
        "-m resnet18 -bs 1024 -nw 4"
      ]
    },
    {
      "cell_type": "code",
      "execution_count": 15,
      "metadata": {
        "id": "-4sUIzV2Nm8K",
        "colab": {
          "base_uri": "https://localhost:8080/"
        },
        "outputId": "97f6fadc-f12f-4e32-8153-8024a988ed04"
      },
      "outputs": [
        {
          "output_type": "stream",
          "name": "stdout",
          "text": [
            "Selected Device: cuda:0\n",
            "13320\n",
            "Total Videos: 10619  |  Total Frames: 72327  |  Max Video length: 71\n",
            "Processed json saved at /content/ActionBERTwSashimi/testFrame/data_res18_fps_1/train.json\n",
            "Embeddings: 100% 71/71 [01:26<00:00,  1.22s/it]\n",
            "The embeddings memmap file saved at /content/ActionBERTwSashimi/testFrame/data_res18_fps_1/train.npy\n",
            "Total execution time 92.57 secs\n"
          ]
        }
      ],
      "source": [
        "! python3 /content/ActionBERTwSashimi/prepare_data.py -s train \\\n",
        "-f /content/ActionBERTwSashimi/testFrame/frames_fps_1\\\n",
        "-j /content/ActionBERTwSashimi/testFrame/train_ucf101.json \\\n",
        "-o /content/ActionBERTwSashimi/testFrame/data_res18_fps_1 \\\n",
        "-m resnet18 -bs 1024 -nw 4"
      ]
    },
    {
      "cell_type": "code",
      "execution_count": 16,
      "metadata": {
        "id": "b2D8njQ2Nnro",
        "colab": {
          "base_uri": "https://localhost:8080/"
        },
        "outputId": "1e798f3e-7fda-4ee9-ef25-5803b7ff933b"
      },
      "outputs": [
        {
          "output_type": "stream",
          "name": "stdout",
          "text": [
            "Selected Device: cuda:0\n",
            "13320\n",
            "Total Videos: 1296  |  Total Frames: 8824  |  Max Video length: 71\n",
            "Processed json saved at /content/ActionBERTwSashimi/testFrame/data_res18_fps_1/val.json\n",
            "Embeddings: 100% 9/9 [00:12<00:00,  1.39s/it]\n",
            "The embeddings memmap file saved at /content/ActionBERTwSashimi/testFrame/data_res18_fps_1/val.npy\n",
            "Total execution time 17.29 secs\n"
          ]
        }
      ],
      "source": [
        "! python3 /content/ActionBERTwSashimi/prepare_data.py -s val \\\n",
        "-f /content/ActionBERTwSashimi/testFrame/frames_fps_1\\\n",
        "-j /content/ActionBERTwSashimi/testFrame/val_ucf101.json \\\n",
        "-o /content/ActionBERTwSashimi/testFrame/data_res18_fps_1 \\\n",
        "-m resnet18 -bs 1024 -nw 4"
      ]
    },
    {
      "cell_type": "code",
      "execution_count": 29,
      "metadata": {
        "id": "0aB351oqNpoo",
        "colab": {
          "base_uri": "https://localhost:8080/"
        },
        "outputId": "2e1c67a7-bcd6-4a07-8abf-8f7678b7aee7"
      },
      "outputs": [
        {
          "output_type": "stream",
          "name": "stdout",
          "text": [
            "CUDA extension for cauchy multiplication not found. Install by going to extensions/cauchy/ and running `python setup.py install`. This should speed up end-to-end training by 10-50%\n",
            "Falling back on slow Cauchy kernel. Install at least one of pykeops or the CUDA extension for efficiency.\n",
            "Falling back on slow Vandermonde kernel. Install pykeops for improved memory efficiency.\n",
            "<class 'model.MySashimi'>\n",
            "Selected Device: cuda:0\n",
            "\u001b[34m\u001b[1mwandb\u001b[0m: Currently logged in as: \u001b[33mmahimaahsan19\u001b[0m (\u001b[33m499_ratpack\u001b[0m). Use \u001b[1m`wandb login --relogin`\u001b[0m to force relogin\n",
            "\u001b[34m\u001b[1mwandb\u001b[0m: Tracking run with wandb version 0.13.5\n",
            "\u001b[34m\u001b[1mwandb\u001b[0m: Run data is saved locally in \u001b[35m\u001b[1m/content/apex/wandb/run-20221113_183324-17skijok\u001b[0m\n",
            "\u001b[34m\u001b[1mwandb\u001b[0m: Run \u001b[1m`wandb offline`\u001b[0m to turn off syncing.\n",
            "\u001b[34m\u001b[1mwandb\u001b[0m: Syncing run \u001b[33mexp_Sashimi\u001b[0m\n",
            "\u001b[34m\u001b[1mwandb\u001b[0m: ⭐️ View project at \u001b[34m\u001b[4mhttps://wandb.ai/499_ratpack/S4_ActionBERT\u001b[0m\n",
            "\u001b[34m\u001b[1mwandb\u001b[0m: 🚀 View run at \u001b[34m\u001b[4mhttps://wandb.ai/499_ratpack/S4_ActionBERT/runs/17skijok\u001b[0m\n",
            "Training Log Directory: ./results_log/Sashimi/res18_1fps_lyr_1_bs_256_lr_1e4\n",
            "\n",
            "Train Data Size: 10619\n",
            "\n",
            "Validation Data Size: 1296\n",
            "Validation Accuracy is computed using 1296 samples. See --val_size\n",
            "\n",
            "Test Data Size: 1405\n",
            "Test Accuracy is computed using 1405 samples. See --test_size\n",
            "\n",
            "/usr/local/lib/python3.9/site-packages/apex-0.1-py3.9.egg/apex/__init__.py:68: DeprecatedFeatureWarning: apex.amp is deprecated and will be removed by the end of February 2023. Use [PyTorch AMP](https://pytorch.org/docs/stable/amp.html)\n",
            "Selected optimization level O1:  Insert automatic casts around Pytorch functions and Tensor methods.\n",
            "\n",
            "Defaults for this optimization level are:\n",
            "enabled                : True\n",
            "opt_level              : O1\n",
            "cast_model_type        : None\n",
            "patch_torch_functions  : True\n",
            "keep_batchnorm_fp32    : None\n",
            "master_weights         : None\n",
            "loss_scale             : dynamic\n",
            "Processing user overrides (additional kwargs that are not None)...\n",
            "After processing overrides, optimization options are:\n",
            "enabled                : True\n",
            "opt_level              : O1\n",
            "cast_model_type        : None\n",
            "patch_torch_functions  : True\n",
            "keep_batchnorm_fp32    : None\n",
            "master_weights         : None\n",
            "loss_scale             : dynamic\n",
            "Warning:  multi_tensor_applier fused unscale kernel is unavailable, possibly because apex was installed without --cuda_ext --cpp_ext. Using Python fallback.  Original ImportError was: ModuleNotFoundError(\"No module named 'amp_C'\")\n",
            "Traceback (most recent call last):\n",
            "  File \"/content/ActionBERTwSashimi/main.py\", line 652, in <module>\n",
            "    main()\n",
            "  File \"/content/ActionBERTwSashimi/main.py\", line 446, in main\n",
            "    label_logits = model(*inputs)\n",
            "  File \"/usr/local/lib/python3.9/site-packages/torch/nn/modules/module.py\", line 889, in _call_impl\n",
            "    result = self.forward(*input, **kwargs)\n",
            "  File \"/usr/local/lib/python3.9/site-packages/torch/nn/modules/module.py\", line 201, in _forward_unimplemented\n",
            "    raise NotImplementedError\n",
            "NotImplementedError\n",
            "\u001b[34m\u001b[1mwandb\u001b[0m: Waiting for W&B process to finish... \u001b[31m(failed 1).\u001b[0m Press Control-C to abort syncing.\n",
            "\u001b[34m\u001b[1mwandb\u001b[0m: Synced \u001b[33mexp_Sashimi\u001b[0m: \u001b[34m\u001b[4mhttps://wandb.ai/499_ratpack/S4_ActionBERT/runs/17skijok\u001b[0m\n",
            "\u001b[34m\u001b[1mwandb\u001b[0m: Synced 6 W&B file(s), 0 media file(s), 0 artifact file(s) and 0 other file(s)\n",
            "\u001b[34m\u001b[1mwandb\u001b[0m: Find logs at: \u001b[35m\u001b[1m./wandb/run-20221113_183324-17skijok/logs\u001b[0m\n"
          ]
        }
      ],
      "source": [
        "#Sashimi test + train\n",
        "! python3 /content/ActionBERTwSashimi/main.py --mode test --expt_dir ./results_log  \\\n",
        "--expt_name Sashimi --model mySashimi \\\n",
        "--data_dir /content/ActionBERTwSashimi/testFrame/data_res18_fps_1 \\\n",
        "--run_name res18_1fps_lyr_1_bs_256_lr_1e4 \\\n",
        "--num_layers 1 --batch_size 256 --epochs 300 \\\n",
        "--gpu_id 0 --opt_lvl 1  --num_workers 4 --lr 1e-4"
      ]
    }
  ],
  "metadata": {
    "accelerator": "GPU",
    "colab": {
      "machine_shape": "hm",
      "provenance": [],
      "authorship_tag": "ABX9TyM1+eDsmsE44qtLXqQoJ4+c",
      "include_colab_link": true
    },
    "gpuClass": "premium",
    "kernelspec": {
      "display_name": "Python 3",
      "name": "python3"
    },
    "language_info": {
      "name": "python"
    }
  },
  "nbformat": 4,
  "nbformat_minor": 0
}